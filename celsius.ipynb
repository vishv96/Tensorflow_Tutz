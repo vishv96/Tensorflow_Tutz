{
  "nbformat": 4,
  "nbformat_minor": 0,
  "metadata": {
    "colab": {
      "name": "Celsuis_model.ipynb",
      "provenance": [],
      "authorship_tag": "ABX9TyP8rXIYbRmC0KXX0DcuRF5O",
      "include_colab_link": true
    },
    "kernelspec": {
      "name": "python3",
      "display_name": "Python 3"
    },
    "language_info": {
      "name": "python"
    },
    "accelerator": "GPU"
  },
  "cells": [
    {
      "cell_type": "markdown",
      "metadata": {
        "id": "view-in-github",
        "colab_type": "text"
      },
      "source": [
        "<a href=\"https://colab.research.google.com/github/vishv96/Tensorflow_Tutz/blob/main/celsius.ipynb\" target=\"_parent\"><img src=\"https://colab.research.google.com/assets/colab-badge.svg\" alt=\"Open In Colab\"/></a>"
      ]
    },
    {
      "cell_type": "markdown",
      "metadata": {
        "id": "Bd1MoxdPC0mM"
      },
      "source": [
        "Import TF & numpy\n",
        "\n",
        "Set logger"
      ]
    },
    {
      "cell_type": "code",
      "metadata": {
        "id": "Yr3zwClbA7qC"
      },
      "source": [
        "import tensorflow as tf\n",
        "import numpy as np\n",
        "import logging\n",
        "\n",
        "logger = tf.get_logger()\n",
        "logger.setLevel(logging.ERROR)"
      ],
      "execution_count": null,
      "outputs": []
    },
    {
      "cell_type": "markdown",
      "metadata": {
        "id": "Y6BU2FLQBXli"
      },
      "source": [
        "celsius and fahrenheit data for training "
      ]
    },
    {
      "cell_type": "code",
      "metadata": {
        "id": "ifay-A5sBeoN"
      },
      "source": [
        "celsuis_a = np.array([-40, -10,  0,  8, 15, 22,  38], dtype=float)\n",
        "fahrenheit_a = np.array([-40,  14, 32, 46, 59, 72, 100], dtype=float)\n",
        "\n"
      ],
      "execution_count": null,
      "outputs": []
    },
    {
      "cell_type": "code",
      "metadata": {
        "colab": {
          "base_uri": "https://localhost:8080/"
        },
        "id": "57AMk3jiCweQ",
        "outputId": "b5805d57-6440-41de-ffad-96d6dffc0e9b"
      },
      "source": [
        "for i,c in enumerate(celsuis_a):\n",
        "  print('{} degrees Celcuis = {} degrees Fahrenheit'.format(c,fahrenheit_a[i]))"
      ],
      "execution_count": null,
      "outputs": [
        {
          "output_type": "stream",
          "text": [
            "-40.0 degrees Celcuis = -40.0 degrees Fahrenheit\n",
            "-10.0 degrees Celcuis = 14.0 degrees Fahrenheit\n",
            "0.0 degrees Celcuis = 32.0 degrees Fahrenheit\n",
            "8.0 degrees Celcuis = 46.0 degrees Fahrenheit\n",
            "15.0 degrees Celcuis = 59.0 degrees Fahrenheit\n",
            "22.0 degrees Celcuis = 72.0 degrees Fahrenheit\n",
            "38.0 degrees Celcuis = 100.0 degrees Fahrenheit\n"
          ],
          "name": "stdout"
        }
      ]
    },
    {
      "cell_type": "markdown",
      "metadata": {
        "id": "AYp69OCGDHAZ"
      },
      "source": [
        "**Features** : The input to the model\n",
        "\n",
        "**Labels** : The output of the model predicts\n",
        "\n",
        "**Example** : pairs of input and output used during the training"
      ]
    },
    {
      "cell_type": "code",
      "metadata": {
        "id": "lakYCv67fHog"
      },
      "source": [
        ""
      ],
      "execution_count": null,
      "outputs": []
    },
    {
      "cell_type": "markdown",
      "metadata": {
        "id": "b4RAtzI6eUVA"
      },
      "source": [
        "Building a single layer"
      ]
    },
    {
      "cell_type": "code",
      "metadata": {
        "id": "rVAcgVjreYOy"
      },
      "source": [
        "l0 = tf.keras.layers.Dense(units=1, input_shape=[1])"
      ],
      "execution_count": null,
      "outputs": []
    },
    {
      "cell_type": "markdown",
      "metadata": {
        "id": "j-G_0NVKfCXh"
      },
      "source": [
        "**Assemble layers into model**"
      ]
    },
    {
      "cell_type": "code",
      "metadata": {
        "id": "j86WknGTfJr4"
      },
      "source": [
        "model = tf.keras.Sequential([l0])"
      ],
      "execution_count": null,
      "outputs": []
    },
    {
      "cell_type": "markdown",
      "metadata": {
        "id": "yPU9o1f1fawR"
      },
      "source": [
        "**Compiling the model with loss and optimizer function**"
      ]
    },
    {
      "cell_type": "code",
      "metadata": {
        "id": "-u7Jl31zfjEZ"
      },
      "source": [
        "model.compile(loss=\"mean_squared_error\", optimizer=tf.keras.optimizers.Adam(0.1))"
      ],
      "execution_count": null,
      "outputs": []
    },
    {
      "cell_type": "markdown",
      "metadata": {
        "id": "4wFdF8qef5kA"
      },
      "source": [
        "**Train the model**"
      ]
    },
    {
      "cell_type": "code",
      "metadata": {
        "colab": {
          "base_uri": "https://localhost:8080/"
        },
        "id": "ed2IDWRkf_TG",
        "outputId": "1a6d92aa-30f8-433b-9e11-62a92272ae73"
      },
      "source": [
        "history = model.fit(celsuis_a, fahrenheit_a, epochs=500, verbose=False)\n",
        "print(\"Finished trianing the model\")"
      ],
      "execution_count": null,
      "outputs": [
        {
          "output_type": "stream",
          "text": [
            "Finished trianing the model\n"
          ],
          "name": "stdout"
        }
      ]
    },
    {
      "cell_type": "markdown",
      "metadata": {
        "id": "9GyFtVpSgtLF"
      },
      "source": [
        "**Display training statics**"
      ]
    },
    {
      "cell_type": "code",
      "metadata": {
        "colab": {
          "base_uri": "https://localhost:8080/",
          "height": 296
        },
        "id": "EgAIKex9g_fr",
        "outputId": "b99999ad-c891-40fe-cf9f-38ebf03a1dc9"
      },
      "source": [
        "import matplotlib.pyplot as plt\n",
        "plt.xlabel('Epoch Number')\n",
        "plt.ylabel(\"Loss Magnitude\")\n",
        "plt.plot(history.history['loss'])"
      ],
      "execution_count": null,
      "outputs": [
        {
          "output_type": "execute_result",
          "data": {
            "text/plain": [
              "[<matplotlib.lines.Line2D at 0x7f69b0071c50>]"
            ]
          },
          "metadata": {
            "tags": []
          },
          "execution_count": 15
        },
        {
          "output_type": "display_data",
          "data": {
            "image/png": "[encoded data removed]",
            "text/plain": [
              "<Figure size 432x288 with 1 Axes>"
            ]
          },
          "metadata": {
            "tags": [],
            "needs_background": "light"
          }
        }
      ]
    },
    {
      "cell_type": "markdown",
      "metadata": {
        "id": "skZMT-bjhQLm"
      },
      "source": [
        "**Use the model to predict **"
      ]
    },
    {
      "cell_type": "code",
      "metadata": {
        "colab": {
          "base_uri": "https://localhost:8080/"
        },
        "id": "zKOi1RDghWLk",
        "outputId": "e82994a8-a9cb-4a19-a3ec-5375824e0da5"
      },
      "source": [
        "print(model.predict([100.0]))"
      ],
      "execution_count": null,
      "outputs": [
        {
          "output_type": "stream",
          "text": [
            "[[211.31694]]\n"
          ],
          "name": "stdout"
        }
      ]
    }
  ]
}