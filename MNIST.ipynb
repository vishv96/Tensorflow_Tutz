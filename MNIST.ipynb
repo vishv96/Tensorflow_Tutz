{
  "nbformat": 4,
  "nbformat_minor": 0,
  "metadata": {
    "colab": {
      "name": "MNIST.ipynb",
      "provenance": [],
      "authorship_tag": "ABX9TyMUw4oT0hxp2Q/NFVl4lScK",
      "include_colab_link": true
    },
    "kernelspec": {
      "name": "python3",
      "display_name": "Python 3"
    },
    "language_info": {
      "name": "python"
    }
  },
  "cells": [
    {
      "cell_type": "markdown",
      "metadata": {
        "id": "view-in-github",
        "colab_type": "text"
      },
      "source": [
        "<a href=\"https://colab.research.google.com/github/vishv96/Tensorflow_Tutz/blob/main/MNIST.ipynb\" target=\"_parent\"><img src=\"https://colab.research.google.com/assets/colab-badge.svg\" alt=\"Open In Colab\"/></a>"
      ]
    },
    {
      "cell_type": "markdown",
      "metadata": {
        "id": "YvshLbEwqVt7"
      },
      "source": [
        "**Flattening**: The process of converting a 2d image into 1d vector\n",
        "\n",
        "**ReLU**: An activation function that allows a model to solve nonlinear problems\n",
        "\n",
        "**Softmax**: A function that provides probabilities for each possible output class\n",
        "\n",
        "**Classification**: A machine learning model used for distinguishing among two or more output categories"
      ]
    },
    {
      "cell_type": "markdown",
      "metadata": {
        "id": "_3tL-i632B5s"
      },
      "source": [
        "# **Classify images of cloths**"
      ]
    },
    {
      "cell_type": "markdown",
      "metadata": {
        "id": "bpergays2MUz"
      },
      "source": [
        "Install and import dependencies"
      ]
    },
    {
      "cell_type": "code",
      "metadata": {
        "id": "DZnZcYmw19XA"
      },
      "source": [
        "!pip install -U tensorflow_datasets"
      ],
      "execution_count": null,
      "outputs": []
    },
    {
      "cell_type": "code",
      "metadata": {
        "id": "UZ3Cp0-v2i6m"
      },
      "source": [
        "import tensorflow as tf\n"
      ],
      "execution_count": 3,
      "outputs": []
    },
    {
      "cell_type": "code",
      "metadata": {
        "id": "ziQLyUv_2p34"
      },
      "source": [
        "# import tensorflow dataset\n",
        "import tensorflow_datasets as tfds\n",
        "tfds.disable_progress_bar()"
      ],
      "execution_count": 4,
      "outputs": []
    },
    {
      "cell_type": "code",
      "metadata": {
        "id": "bKjhIUGH2739"
      },
      "source": [
        "#Helper libraries\n",
        "import numpy as np\n",
        "import matplotlib.pyplot as plt\n",
        "import math"
      ],
      "execution_count": 6,
      "outputs": []
    },
    {
      "cell_type": "code",
      "metadata": {
        "id": "0tf0TTXZ3QQX"
      },
      "source": [
        "import logging\n",
        "logger = tf.get_logger()\n",
        "logger.setLevel(logging.ERROR)"
      ],
      "execution_count": 7,
      "outputs": []
    },
    {
      "cell_type": "markdown",
      "metadata": {
        "id": "8-HsOKNT4ARD"
      },
      "source": [
        "# **Import Fashion MNIST dataset**"
      ]
    },
    {
      "cell_type": "markdown",
      "metadata": {
        "id": "rYQv4X-I4L6k"
      },
      "source": [
        "Dataset contains of 70000 images of (28X28)"
      ]
    },
    {
      "cell_type": "markdown",
      "metadata": {
        "id": "8jsbXs1U4f6n"
      },
      "source": [
        "Loading dataset"
      ]
    },
    {
      "cell_type": "code",
      "metadata": {
        "colab": {
          "base_uri": "https://localhost:8080/"
        },
        "id": "Aju93-tx4HdE",
        "outputId": "8d7b566b-2bc7-4411-cbf2-18742d3d1390"
      },
      "source": [
        "dataset, metadata = tfds.load('fashion_mnist', as_supervised=True, with_info=True)\n",
        "train_dataset, test_dataset = dataset['train'], dataset['test']"
      ],
      "execution_count": 9,
      "outputs": [
        {
          "output_type": "stream",
          "text": [
            "\u001b[1mDownloading and preparing dataset 29.45 MiB (download: 29.45 MiB, generated: 36.42 MiB, total: 65.87 MiB) to /root/tensorflow_datasets/fashion_mnist/3.0.1...\u001b[0m\n",
            "\u001b[1mDataset fashion_mnist downloaded and prepared to /root/tensorflow_datasets/fashion_mnist/3.0.1. Subsequent calls will reuse this data.\u001b[0m\n"
          ],
          "name": "stdout"
        }
      ]
    },
    {
      "cell_type": "code",
      "metadata": {
        "colab": {
          "base_uri": "https://localhost:8080/"
        },
        "id": "WoUAMvaU5yZN",
        "outputId": "0846d0cd-89c3-4608-8f61-867c96d6c7dd"
      },
      "source": [
        "class_names = metadata.features['label'].names\n",
        "print(class_names)"
      ],
      "execution_count": 12,
      "outputs": [
        {
          "output_type": "stream",
          "text": [
            "['T-shirt/top', 'Trouser', 'Pullover', 'Dress', 'Coat', 'Sandal', 'Shirt', 'Sneaker', 'Bag', 'Ankle boot']\n"
          ],
          "name": "stdout"
        }
      ]
    },
    {
      "cell_type": "markdown",
      "metadata": {
        "id": "Puoy6s5B6XWC"
      },
      "source": [
        " Checking number of traning and test data"
      ]
    },
    {
      "cell_type": "code",
      "metadata": {
        "colab": {
          "base_uri": "https://localhost:8080/"
        },
        "id": "4-TrzR9h6alR",
        "outputId": "c0105c18-dd32-46fe-c911-db7137af45fd"
      },
      "source": [
        "num_train_examples = metadata.splits['train'].num_examples\n",
        "num_test_examples = metadata.splits['test'].num_examples\n",
        "print(\"Number of training examples: {}\".format(num_train_examples))\n",
        "print(\"Number of test examples:     {}\".format(num_test_examples))"
      ],
      "execution_count": 18,
      "outputs": [
        {
          "output_type": "stream",
          "text": [
            "Number of training examples: 60000\n",
            "Number of test examples:     10000\n"
          ],
          "name": "stdout"
        }
      ]
    },
    {
      "cell_type": "markdown",
      "metadata": {
        "id": "rR85BQm-77gk"
      },
      "source": [
        "# Preprocess data\n",
        "\n",
        "The value of each pixel in image data is an integer b/w `[0,255]`. For the model to work properly, normalized to the range `[0,1]`"
      ]
    },
    {
      "cell_type": "code",
      "metadata": {
        "id": "QSmd9Khm_D_a"
      },
      "source": [
        "def normalize(images,labels):\n",
        "  images = tf.cast(images, tf.float32)\n",
        "  images /= 255\n",
        "  return images, labels"
      ],
      "execution_count": null,
      "outputs": []
    }
  ]
}